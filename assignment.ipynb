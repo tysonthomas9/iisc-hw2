{
 "cells": [
  {
   "cell_type": "markdown",
   "metadata": {},
   "source": [
    "## Running PCA on the image dataset"
   ]
  },
  {
   "cell_type": "code",
   "execution_count": 1,
   "metadata": {
    "collapsed": true
   },
   "outputs": [],
   "source": [
    "import glob\n",
    "filelist = glob.glob('Data/emotion_classification/train/*.gif');"
   ]
  },
  {
   "cell_type": "code",
   "execution_count": 2,
   "metadata": {
    "collapsed": false
   },
   "outputs": [],
   "source": [
    "import numpy as np\n",
    "from PIL import Image\n",
    "x = np.array([np.array(Image.open(fname).resize((100,100),Image.ANTIALIAS)) for fname in filelist])"
   ]
  },
  {
   "cell_type": "markdown",
   "metadata": {},
   "source": [
    "Resized the dataset to 100x100 above and flattening the dataset to 10000x1"
   ]
  },
  {
   "cell_type": "code",
   "execution_count": 3,
   "metadata": {
    "collapsed": false
   },
   "outputs": [
    {
     "name": "stdout",
     "output_type": "stream",
     "text": [
      "[[ 40 115  97 ...,  90 104 100]\n",
      " [ 54 115 110 ..., 104 109 103]\n",
      " [ 67 117 114 ..., 116 111 108]\n",
      " ..., \n",
      " [ 34 220 100 ...,  89  86 109]\n",
      " [ 32 227 101 ...,  91  88 117]\n",
      " [ 32 213  95 ...,  93  88 103]]\n",
      "(10000, 20)\n"
     ]
    }
   ],
   "source": [
    "image_data = np.zeros((20,10000))\n",
    "for i in range(x.shape[0]):\n",
    "    image_data[i] = (x[i,:,:].flatten()).astype(int)\n",
    "image_data = image_data.astype(int).T\n",
    "\n",
    "print(image_data)\n",
    "print(image_data.shape)\n"
   ]
  },
  {
   "cell_type": "markdown",
   "metadata": {},
   "source": [
    "Finding the mean vector of the image dataset"
   ]
  },
  {
   "cell_type": "code",
   "execution_count": 4,
   "metadata": {
    "collapsed": false
   },
   "outputs": [
    {
     "name": "stdout",
     "output_type": "stream",
     "text": [
      "[[  59.65]\n",
      " [  66.  ]\n",
      " [  70.85]\n",
      " ..., \n",
      " [ 101.15]\n",
      " [ 110.  ]\n",
      " [ 118.5 ]]\n",
      "(10000, 1)\n"
     ]
    }
   ],
   "source": [
    "mean_vector = np.zeros((10000, 1))\n",
    "for i in range(image_data.shape[0]):\n",
    "    mean_vector[i] = np.mean(image_data[i, :])\n",
    "    \n",
    "print(mean_vector)\n",
    "print(mean_vector.shape)"
   ]
  },
  {
   "cell_type": "markdown",
   "metadata": {},
   "source": [
    "The scatter matrix is computed:"
   ]
  },
  {
   "cell_type": "code",
   "execution_count": 5,
   "metadata": {
    "collapsed": false
   },
   "outputs": [
    {
     "name": "stdout",
     "output_type": "stream",
     "text": [
      "Scatter Matrix:\n",
      " [[  33434.55   34090.     34021.95 ...,   11040.05    6694.      3576.5 ]\n",
      " [  34090.     35316.     35782.   ...,    8347.      3221.      -293.  ]\n",
      " [  34021.95   35782.     36930.55 ...,    6734.45    1253.     -2928.5 ]\n",
      " ..., \n",
      " [  11040.05    8347.      6734.45 ...,   91548.55   97619.     88690.5 ]\n",
      " [   6694.      3221.      1253.   ...,   97619.    115426.    111833.  ]\n",
      " [   3576.5     -293.     -2928.5  ...,   88690.5   111833.    121683.  ]]\n"
     ]
    }
   ],
   "source": [
    "scatter_matrix = np.zeros((10000, 10000))\n",
    "for i in range(image_data.shape[1]):\n",
    "    scatter_matrix += (image_data[:,i].reshape(10000,1) - mean_vector).dot((image_data[:,i].reshape(10000,1) -mean_vector).T)\n",
    "print('Scatter Matrix:\\n', scatter_matrix)\n"
   ]
  },
  {
   "cell_type": "markdown",
   "metadata": {},
   "source": [
    "Computing the eigenvectors and eigenvalues"
   ]
  },
  {
   "cell_type": "code",
   "execution_count": 6,
   "metadata": {
    "collapsed": true
   },
   "outputs": [],
   "source": [
    "eig_val_sc, eig_vec_sc = np.linalg.eig(scatter_matrix)"
   ]
  },
  {
   "cell_type": "code",
   "execution_count": 7,
   "metadata": {
    "collapsed": false
   },
   "outputs": [
    {
     "name": "stdout",
     "output_type": "stream",
     "text": [
      "(10000, 10000)\n"
     ]
    }
   ],
   "source": [
    "print(eig_vec_sc.shape)"
   ]
  },
  {
   "cell_type": "code",
   "execution_count": 8,
   "metadata": {
    "collapsed": false
   },
   "outputs": [
    {
     "name": "stdout",
     "output_type": "stream",
     "text": [
      "[[  1.16894148e-03 +0.00000000e+00j  -1.80898048e-02 +0.00000000e+00j\n",
      "   -2.24582148e-03 +0.00000000e+00j ...,   2.05737110e-03 +0.00000000e+00j\n",
      "   -9.33674247e-04 +2.08046835e-04j  -9.33674247e-04 -2.08046835e-04j]\n",
      " [  1.52444893e-03 +0.00000000e+00j  -1.75753537e-02 +0.00000000e+00j\n",
      "   -1.12069343e-03 +0.00000000e+00j ...,   5.29976607e-05 +0.00000000e+00j\n",
      "   -3.67217836e-05 +3.71110939e-06j  -3.67217836e-05 -3.71110939e-06j]\n",
      " [  1.99957878e-03 +0.00000000e+00j  -1.73184875e-02 +0.00000000e+00j\n",
      "   -5.86135890e-04 +0.00000000e+00j ...,   6.77362502e-05 +0.00000000e+00j\n",
      "   -5.50983523e-05 +9.69925998e-07j  -5.50983523e-05 -9.69925998e-07j]\n",
      " ..., \n",
      " [ -8.44660881e-04 +0.00000000e+00j  -1.90904651e-02 +0.00000000e+00j\n",
      "   -3.45891258e-02 +0.00000000e+00j ...,  -8.20945992e-03 +0.00000000e+00j\n",
      "   -4.06659672e-03 -2.74023749e-03j  -4.06659672e-03 +2.74023749e-03j]\n",
      " [ -4.68225777e-04 +0.00000000e+00j  -1.93678562e-02 +0.00000000e+00j\n",
      "   -4.37385904e-02 +0.00000000e+00j ...,   3.29993380e-03 +0.00000000e+00j\n",
      "    5.74205999e-03 -1.40627706e-03j   5.74205999e-03 +1.40627706e-03j]\n",
      " [ -3.49461729e-03 +0.00000000e+00j  -2.18143799e-02 +0.00000000e+00j\n",
      "   -4.37115073e-02 +0.00000000e+00j ...,  -1.23740693e-03 +0.00000000e+00j\n",
      "   -3.35783143e-03 -2.85745445e-03j  -3.35783143e-03 +2.85745445e-03j]]\n"
     ]
    }
   ],
   "source": [
    "print(eig_vec_sc)"
   ]
  },
  {
   "cell_type": "code",
   "execution_count": 81,
   "metadata": {
    "collapsed": false
   },
   "outputs": [],
   "source": [
    "# Make a list of (eigenvalue, eigenvector) tuples\n",
    "eig_pairs = [(np.abs(eig_val_sc[i]), eig_vec_sc[:,i]) for i in range(len(eig_val_sc))]\n",
    "\n",
    "# Sort the (eigenvalue, eigenvector) tuples from high to low\n",
    "eig_pairs.sort(key=lambda x: x[0], reverse=True)\n",
    "\n",
    "# Visually confirm that the list is correctly sorted by decreasing eigenvalues\n",
    "#for i in eig_pairs:\n",
    "#    print(i[0])"
   ]
  },
  {
   "cell_type": "code",
   "execution_count": 10,
   "metadata": {
    "collapsed": false
   },
   "outputs": [
    {
     "name": "stdout",
     "output_type": "stream",
     "text": [
      "[-0.01808980+0.j -0.01757535+0.j -0.01731849+0.j ..., -0.01909047+0.j\n",
      " -0.01936786+0.j -0.02181438+0.j]\n",
      "(10000,)\n"
     ]
    }
   ],
   "source": [
    "print(eig_pairs[1][1])\n",
    "print(eig_pairs[1][1].shape)"
   ]
  },
  {
   "cell_type": "markdown",
   "metadata": {},
   "source": [
    "Choosing the k=10 eigenvectors with largest eigenvalues"
   ]
  },
  {
   "cell_type": "code",
   "execution_count": 11,
   "metadata": {
    "collapsed": false
   },
   "outputs": [
    {
     "name": "stdout",
     "output_type": "stream",
     "text": [
      "(10000, 1)\n",
      "Matrix W:\n",
      " [[ 0.00000000+0.j  0.00116894+0.j -0.01808980+0.j ..., -0.00673017+0.j\n",
      "   0.02280083+0.j  0.00186752+0.j]\n",
      " [ 0.00000000+0.j  0.00152445+0.j -0.01757535+0.j ..., -0.00800516+0.j\n",
      "   0.02396519+0.j  0.00338296+0.j]\n",
      " [ 0.00000000+0.j  0.00199958+0.j -0.01731849+0.j ..., -0.00929425+0.j\n",
      "   0.02457368+0.j  0.00500197+0.j]\n",
      " ..., \n",
      " [ 0.00000000+0.j -0.00084466+0.j -0.01909047+0.j ..., -0.00135019+0.j\n",
      "   0.01515583+0.j  0.04682599+0.j]\n",
      " [ 0.00000000+0.j -0.00046823+0.j -0.01936786+0.j ..., -0.00030333+0.j\n",
      "   0.00050111+0.j  0.05105430+0.j]\n",
      " [ 0.00000000+0.j -0.00349462+0.j -0.02181438+0.j ..., -0.00243420+0.j\n",
      "  -0.02327232+0.j  0.04394218+0.j]]\n"
     ]
    }
   ],
   "source": [
    "matrix_w = np.zeros((10000,1))\n",
    "print(eig_pairs[0][1].reshape(10000,1).shape)\n",
    "for i in range(9):\n",
    "    matrix_w = np.concatenate([matrix_w, (eig_pairs[i][1].reshape(10000,1))], axis=1)\n",
    "print('Matrix W:\\n', matrix_w)"
   ]
  },
  {
   "cell_type": "code",
   "execution_count": 12,
   "metadata": {
    "collapsed": false
   },
   "outputs": [
    {
     "name": "stdout",
     "output_type": "stream",
     "text": [
      "(10000, 10)\n"
     ]
    }
   ],
   "source": [
    "print(matrix_w.shape)"
   ]
  },
  {
   "cell_type": "markdown",
   "metadata": {},
   "source": [
    "Transformed sample to subspace"
   ]
  },
  {
   "cell_type": "code",
   "execution_count": 13,
   "metadata": {
    "collapsed": false
   },
   "outputs": [
    {
     "name": "stdout",
     "output_type": "stream",
     "text": [
      "[[    0     0     0     0     0     0     0     0     0     0     0     0\n",
      "      0     0     0     0     0     0     0     0]\n",
      " [ 6044  5576  5117  6308  5202  4492 10743 11527  5327  4603  6173  6231\n",
      "   4475  6238  9586  5776  3712  7361  6436  6693]\n",
      " [ -494 -2485  -338   146   382    34   199 -2299   225 -1062 -1801  1558\n",
      "  -3888   506 -1783   419 -2528  -190   117 -2679]\n",
      " [ 2021   -44  1382  1608 -1995  1530  1382   863 -2254  1626   741   298\n",
      "    583  2071   434  3077  1701  -512  1026   514]\n",
      " [ 5216  3031  5437  3080  4982  4403  2424  5810  4651  4345  3855  4333\n",
      "   3393  2895  4761  6077  4350  4295  3749  5096]\n",
      " [ 3828   659  1158  2301  2458  1620  2586  2073  2936  1431   497  1754\n",
      "   3369  2119  1986  1577  2339   509  1467  1412]\n",
      " [-1369   784   788   918   622   952    69  1624  1094  1661  -280  -564\n",
      "    542   701   155   687  -619 -1334   162  -737]\n",
      " [ -249  -186  1474  -847    95   131  1829 -1118   131   765  -500  -481\n",
      "   -654  -707    97  -523   191  -723  -908  1014]\n",
      " [-1318 -1350 -1830 -2683 -3264 -2036 -2578 -1964 -2433 -2155 -2540  -941\n",
      "  -2041 -3033 -3062 -3170 -3692 -3023 -1956 -2121]\n",
      " [ -147   338  1147  -366  -115  -716   187  -627   413  -411   239   431\n",
      "   1230   367  1362  1100  -431     6   671  -367]]\n",
      "(10, 20)\n"
     ]
    },
    {
     "name": "stderr",
     "output_type": "stream",
     "text": [
      "/home/ubuntu/anaconda3/envs/tensorflow/lib/python3.5/site-packages/ipykernel/__main__.py:2: ComplexWarning: Casting complex values to real discards the imaginary part\n",
      "  from ipykernel import kernelapp as app\n"
     ]
    }
   ],
   "source": [
    "transformed = matrix_w.T.dot(image_data)\n",
    "print(transformed.astype(int))\n",
    "print(transformed.shape)\n"
   ]
  },
  {
   "cell_type": "markdown",
   "metadata": {},
   "source": [
    "## Conclusion\n",
    "\n",
    "The transformed data is at a lower subspace of 10x20 size which can reduce the computation required for subsequent steps. Although looking at the list of eigenvalues in the descending order we see that we can increase the sample subspace to k=19 beyond which the values tend towards 0.\n",
    "\n",
    "Note: The first row seems to be having values close to 0 and since i've converted to int its displayed as absoulte zero. I can't seem to know why this happened.\n",
    "\n",
    "### Sklearn implementation of the above PCA steps"
   ]
  },
  {
   "cell_type": "code",
   "execution_count": 14,
   "metadata": {
    "collapsed": false
   },
   "outputs": [
    {
     "name": "stdout",
     "output_type": "stream",
     "text": [
      "[[ -337.01918934  -303.41174897 -1219.09946114  -906.58831835\n",
      "   1924.02700175  1662.73513217  -190.62022982  1041.63521222\n",
      "   -362.60184267   510.16740269]\n",
      " [ -804.93735226  1687.58163797   847.86583216  1278.63295029\n",
      "  -1244.82503359  -491.73583185  -128.24028383  1009.91701217\n",
      "    122.53542462   580.88265212]\n",
      " [-1263.97473466  -459.50754778  -579.97680227 -1128.29412483\n",
      "   -746.33570576  -495.42481472  1532.55791817   529.61650236\n",
      "    931.48991961  -868.69608142]\n",
      " [  -72.85016958  -944.46618094  -805.18171556  1228.99803409\n",
      "    396.99447707  -625.15289239  -789.17797129  -323.53803     -582.4901869\n",
      "    251.17388058]\n",
      " [-1179.00371823 -1181.01161618  2798.23438915  -673.11418241\n",
      "    553.66087594  -329.61814325   153.7280797   -904.99940664\n",
      "   -331.37454448  -126.78596778]\n",
      " [-1888.58083762  -832.38687695  -727.64602969   -93.8376326   -284.11650369\n",
      "   -659.76273363   189.6198587    323.88532238  -932.35754483\n",
      "    693.04169921]\n",
      " [ 4361.8980841   -997.8050976   -579.75303823  1885.39749029\n",
      "    682.30588416   223.87767485  1888.21355095  -218.15707446\n",
      "    -28.12870231  -494.97624344]\n",
      " [ 5145.75427138  1501.72772284   -60.13672741 -1500.85906617\n",
      "    169.36626752 -1331.07970797 -1059.79269191   395.24240941\n",
      "   -842.95685053  -752.06245355]\n",
      " [-1053.79498751 -1024.05913559  3057.02441965  -342.17136575  1032.4167269\n",
      "   -801.55993013   190.28789023   -73.23725603   197.85195475\n",
      "    327.99891143]\n",
      " [-1778.31005119   264.3945431   -823.60772175   -36.14231541\n",
      "   -472.87789576 -1368.13566763   824.14963761   204.10531583\n",
      "   -627.31221756  -114.28815034]\n",
      " [ -208.24199809  1003.51921619    61.57005608   454.61292925\n",
      "  -1407.12488337   573.75361025  -442.27001422  -180.41329123\n",
      "     23.64156023    30.68354387]\n",
      " [ -149.55798072 -2356.28642899   504.79145128   -23.42977188\n",
      "   -149.47518636   857.5354763   -422.94437823  1418.79767035\n",
      "    215.56193374  -517.88047162]\n",
      " [-1905.8511937   3090.5259893    219.72249827   915.69394177\n",
      "   1465.34128816  -249.08024433  -596.41714681   318.07716891\n",
      "   1014.74909246  -590.12988241]\n",
      " [ -143.31095351 -1304.46262294 -1268.90739087  1414.36552809   214.9733357\n",
      "   -408.73798823  -648.88501922  -673.72659554   151.86766705\n",
      "    548.01837171]\n",
      " [ 3204.84126637   985.37567694   368.50983963  -451.99568469\n",
      "     82.06931187   137.33944675   156.19507142  -702.21944379\n",
      "   1147.33814228  1156.16379021]\n",
      " [ -605.28798373 -1217.29607537 -2274.76611778 -1767.63542525  -327.3767772\n",
      "   -394.43675007  -464.63165135  -810.45047507   885.35118009\n",
      "    260.10498185]\n",
      " [-2669.47230633  1730.03254505  -898.96070531   -40.87627798\n",
      "    434.73473299   912.10258713   250.26301428 -1332.13817758\n",
      "   -646.81260284  -922.10792628]\n",
      " [  980.20075819  -608.11180143  1315.71235271    14.38122464\n",
      "  -1394.80024306  1627.01879029  -665.49963498  -663.55546228\n",
      "   -208.76865103  -524.36517665]\n",
      " [   55.10261349  -915.3715432   -224.03575393   559.79194629\n",
      "   -436.98276077   130.27084758  -849.64305023   403.06765699\n",
      "    455.82084186  -408.52210305]\n",
      " [  312.39646294  1881.01934458   288.64062501  -786.92987939\n",
      "   -491.97491248  1030.09113888  1073.10705082   238.09094201\n",
      "   -583.40457353   961.5792229 ]]\n",
      "(20, 10)\n"
     ]
    }
   ],
   "source": [
    "from sklearn.decomposition import PCA as sklearnPCA\n",
    "\n",
    "sklearn_pca = sklearnPCA(n_components=10)\n",
    "sklearn_transf = sklearn_pca.fit_transform(image_data.T)\n",
    "\n",
    "print(sklearn_transf)\n",
    "print(sklearn_transf.shape)"
   ]
  },
  {
   "cell_type": "markdown",
   "metadata": {},
   "source": [
    "# Performing LDA on the subspace dataset"
   ]
  },
  {
   "cell_type": "code",
   "execution_count": 15,
   "metadata": {
    "collapsed": false
   },
   "outputs": [
    {
     "name": "stdout",
     "output_type": "stream",
     "text": [
      "['Data/emotion_classification/train/subject10.happy.gif', 'Data/emotion_classification/train/subject02.happy.gif', 'Data/emotion_classification/train/subject12.happy.gif', 'Data/emotion_classification/train/subject04.happy.gif', 'Data/emotion_classification/train/subject13.sad.gif', 'Data/emotion_classification/train/subject06.sad.gif', 'Data/emotion_classification/train/subject11.sad.gif', 'Data/emotion_classification/train/subject01.happy.gif', 'Data/emotion_classification/train/subject13.happy.gif', 'Data/emotion_classification/train/subject06.happy.gif', 'Data/emotion_classification/train/subject02.sad.gif', 'Data/emotion_classification/train/subject12.sad.gif', 'Data/emotion_classification/train/subject07.happy.gif', 'Data/emotion_classification/train/subject04.sad.gif', 'Data/emotion_classification/train/subject03.sad.gif', 'Data/emotion_classification/train/subject10.sad.gif', 'Data/emotion_classification/train/subject07.sad.gif', 'Data/emotion_classification/train/subject09.sad.gif', 'Data/emotion_classification/train/subject05.sad.gif', 'Data/emotion_classification/train/subject09.happy.gif']\n"
     ]
    }
   ],
   "source": [
    "print(filelist)"
   ]
  },
  {
   "cell_type": "code",
   "execution_count": 26,
   "metadata": {
    "collapsed": false
   },
   "outputs": [],
   "source": [
    "happy_filelist = []\n",
    "sad_filelist = []\n",
    "for i in range(len(filelist)):\n",
    "    if (filelist[i].find('happy') != -1) :\n",
    "        happy_filelist.append(filelist[i]) \n",
    "    else:\n",
    "        sad_filelist.append(filelist[i])"
   ]
  },
  {
   "cell_type": "code",
   "execution_count": 27,
   "metadata": {
    "collapsed": true
   },
   "outputs": [],
   "source": [
    "happy_filelist_dataset = np.array([np.array(Image.open(fname).resize((100,100),Image.ANTIALIAS)) for fname in happy_filelist])\n",
    "sad_filelist_dataset = np.array([np.array(Image.open(fname).resize((100,100),Image.ANTIALIAS)) for fname in sad_filelist])"
   ]
  },
  {
   "cell_type": "code",
   "execution_count": 29,
   "metadata": {
    "collapsed": false
   },
   "outputs": [],
   "source": [
    "happy_image_data = np.zeros((happy_filelist_dataset.shape[0],10000))\n",
    "for i in range(happy_filelist_dataset.shape[0]):\n",
    "    happy_image_data[i] = (happy_filelist_dataset[i,:,:].flatten()).astype(int)\n",
    "happy_image_data = happy_image_data.astype(int).T\n",
    "\n",
    "sad_image_data = np.zeros((sad_filelist_dataset.shape[0],10000))\n",
    "for i in range(sad_filelist_dataset.shape[0]):\n",
    "    sad_image_data[i] = (sad_filelist_dataset[i,:,:].flatten()).astype(int)\n",
    "sad_image_data = sad_image_data.astype(int).T"
   ]
  },
  {
   "cell_type": "markdown",
   "metadata": {},
   "source": [
    "### Generating the transformed dataset from input data"
   ]
  },
  {
   "cell_type": "code",
   "execution_count": 79,
   "metadata": {
    "collapsed": false
   },
   "outputs": [
    {
     "name": "stderr",
     "output_type": "stream",
     "text": [
      "/home/ubuntu/anaconda3/envs/tensorflow/lib/python3.5/site-packages/ipykernel/__main__.py:1: ComplexWarning: Casting complex values to real discards the imaginary part\n",
      "  if __name__ == '__main__':\n",
      "/home/ubuntu/anaconda3/envs/tensorflow/lib/python3.5/site-packages/ipykernel/__main__.py:2: ComplexWarning: Casting complex values to real discards the imaginary part\n",
      "  from ipykernel import kernelapp as app\n"
     ]
    }
   ],
   "source": [
    "happy_filelist_dataset_transformed = (matrix_w.T.dot(happy_image_data)).astype(int).T\n",
    "sad_filelist_dataset_transformed = (matrix_w.T.dot(sad_image_data)).astype(int).T"
   ]
  },
  {
   "cell_type": "code",
   "execution_count": 33,
   "metadata": {
    "collapsed": false
   },
   "outputs": [
    {
     "name": "stdout",
     "output_type": "stream",
     "text": [
      "[[    0  6044  -494  2021  5216  3828 -1369  -249 -1318  -147]\n",
      " [    0  5576 -2485   -44  3031   659   784  -186 -1350   338]\n",
      " [    0  5117  -338  1382  5437  1158   788  1474 -1830  1147]\n",
      " [    0  6308   146  1608  3080  2301   918  -847 -2683  -366]\n",
      " [    0 11527 -2299   863  5810  2073  1624 -1118 -1964  -627]\n",
      " [    0  5327   225 -2254  4651  2936  1094   131 -2433   413]\n",
      " [    0  4603 -1062  1626  4345  1431  1661   765 -2155  -411]\n",
      " [    0  4475 -3888   583  3393  3369   542  -654 -2041  1230]\n",
      " [    0  6693 -2679   514  5096  1412  -737  1014 -2121  -367]]\n",
      "(9, 10)\n",
      "[[    0  5202   382 -1995  4982  2458   622    95 -3264  -115]\n",
      " [    0  4492    34  1530  4403  1620   952   131 -2036  -716]\n",
      " [    0 10743   199  1382  2424  2586    69  1829 -2578   187]\n",
      " [    0  6173 -1801   741  3855   497  -280  -500 -2540   239]\n",
      " [    0  6231  1558   298  4333  1754  -564  -481  -941   431]\n",
      " [    0  6238   506  2071  2895  2119   701  -707 -3033   367]\n",
      " [    0  9586 -1783   434  4761  1986   155    97 -3062  1362]\n",
      " [    0  5776   419  3077  6077  1577   687  -523 -3170  1100]\n",
      " [    0  3712 -2528  1701  4350  2339  -619   191 -3692  -431]\n",
      " [    0  7361  -190  -512  4295   509 -1334  -723 -3023     6]\n",
      " [    0  6436   117  1026  3749  1467   162  -908 -1956   671]]\n",
      "(11, 10)\n"
     ]
    }
   ],
   "source": [
    "print(happy_filelist_dataset_transformed)\n",
    "print(happy_filelist_dataset_transformed.shape)\n",
    "print(sad_filelist_dataset_transformed)\n",
    "print(sad_filelist_dataset_transformed.shape)"
   ]
  },
  {
   "cell_type": "markdown",
   "metadata": {},
   "source": [
    "### Obtaining the mean vector"
   ]
  },
  {
   "cell_type": "code",
   "execution_count": 38,
   "metadata": {
    "collapsed": false
   },
   "outputs": [
    {
     "name": "stdout",
     "output_type": "stream",
     "text": [
      "[    0.          6185.55555556 -1430.44444444   699.88888889  4451.\n",
      "  2129.66666667   589.44444444    36.66666667 -1988.33333333   134.44444444]\n"
     ]
    }
   ],
   "source": [
    "mean_vectors = []\n",
    "mean_vectors.append(np.mean(happy_filelist_dataset_transformed, axis=0))\n",
    "mean_vectors.append(np.mean(sad_filelist_dataset_transformed, axis=0))\n",
    "print(mean_vectors[0])"
   ]
  },
  {
   "cell_type": "markdown",
   "metadata": {},
   "source": [
    "### Calculating the scatter matrix"
   ]
  },
  {
   "cell_type": "code",
   "execution_count": 75,
   "metadata": {
    "collapsed": false
   },
   "outputs": [],
   "source": [
    "class_sc_mat_happy = np.zeros((10,10))\n",
    "mean_vector_happy = mean_vectors[0]\n",
    "mean_vector_happy.reshape(10,1)\n",
    "\n",
    "for row in happy_filelist_dataset_transformed:\n",
    "    row.reshape(10,1)\n",
    "    class_sc_mat_happy += (row-mean_vector_happy).dot((row-mean_vector_happy).T)    \n",
    "\n",
    "\n",
    "class_sc_mat_sad = np.zeros((10,10))\n",
    "mean_vector_sad = mean_vectors[1]\n",
    "mean_vector_sad.reshape(10,1)\n",
    "for row in sad_filelist_dataset_transformed:\n",
    "    row.reshape(10,1)\n",
    "    class_sc_mat_sad += (row-mean_vector_sad).dot((row-mean_vector_sad).T)    \n"
   ]
  },
  {
   "cell_type": "code",
   "execution_count": 76,
   "metadata": {
    "collapsed": false
   },
   "outputs": [
    {
     "name": "stdout",
     "output_type": "stream",
     "text": [
      "[[  2.15724497e+08   2.15724497e+08   2.15724497e+08   2.15724497e+08\n",
      "    2.15724497e+08   2.15724497e+08   2.15724497e+08   2.15724497e+08\n",
      "    2.15724497e+08   2.15724497e+08]\n",
      " [  2.15724497e+08   2.15724497e+08   2.15724497e+08   2.15724497e+08\n",
      "    2.15724497e+08   2.15724497e+08   2.15724497e+08   2.15724497e+08\n",
      "    2.15724497e+08   2.15724497e+08]\n",
      " [  2.15724497e+08   2.15724497e+08   2.15724497e+08   2.15724497e+08\n",
      "    2.15724497e+08   2.15724497e+08   2.15724497e+08   2.15724497e+08\n",
      "    2.15724497e+08   2.15724497e+08]\n",
      " [  2.15724497e+08   2.15724497e+08   2.15724497e+08   2.15724497e+08\n",
      "    2.15724497e+08   2.15724497e+08   2.15724497e+08   2.15724497e+08\n",
      "    2.15724497e+08   2.15724497e+08]\n",
      " [  2.15724497e+08   2.15724497e+08   2.15724497e+08   2.15724497e+08\n",
      "    2.15724497e+08   2.15724497e+08   2.15724497e+08   2.15724497e+08\n",
      "    2.15724497e+08   2.15724497e+08]\n",
      " [  2.15724497e+08   2.15724497e+08   2.15724497e+08   2.15724497e+08\n",
      "    2.15724497e+08   2.15724497e+08   2.15724497e+08   2.15724497e+08\n",
      "    2.15724497e+08   2.15724497e+08]\n",
      " [  2.15724497e+08   2.15724497e+08   2.15724497e+08   2.15724497e+08\n",
      "    2.15724497e+08   2.15724497e+08   2.15724497e+08   2.15724497e+08\n",
      "    2.15724497e+08   2.15724497e+08]\n",
      " [  2.15724497e+08   2.15724497e+08   2.15724497e+08   2.15724497e+08\n",
      "    2.15724497e+08   2.15724497e+08   2.15724497e+08   2.15724497e+08\n",
      "    2.15724497e+08   2.15724497e+08]\n",
      " [  2.15724497e+08   2.15724497e+08   2.15724497e+08   2.15724497e+08\n",
      "    2.15724497e+08   2.15724497e+08   2.15724497e+08   2.15724497e+08\n",
      "    2.15724497e+08   2.15724497e+08]\n",
      " [  2.15724497e+08   2.15724497e+08   2.15724497e+08   2.15724497e+08\n",
      "    2.15724497e+08   2.15724497e+08   2.15724497e+08   2.15724497e+08\n",
      "    2.15724497e+08   2.15724497e+08]]\n",
      "(10, 10)\n"
     ]
    }
   ],
   "source": [
    "S_W = class_sc_mat_happy + class_sc_mat_sad\n",
    "print(S_W)\n",
    "print(S_W.shape)"
   ]
  },
  {
   "cell_type": "code",
   "execution_count": 77,
   "metadata": {
    "collapsed": false
   },
   "outputs": [
    {
     "name": "stdout",
     "output_type": "stream",
     "text": [
      "[[       0.                0.                0.                0.                0.\n",
      "         0.                0.                0.                0.                0.        ]\n",
      " [       0.           625066.86868687  2022512.41414141   328488.80808081\n",
      "   -453662.09090909  -721882.93939394  -948722.86868687  -304200.39393939\n",
      "  -1187058.48484848   259390.31313131]\n",
      " [       0.          2022512.41414141  6544190.18232323  1062882.58989899\n",
      "  -1467902.48636364 -2335777.62575758 -3069757.61414141  -984293.20757576\n",
      "  -3840933.89393939   839302.40858586]\n",
      " [       0.           328488.80808081  1062882.58989899   172629.36565657\n",
      "   -238411.16363636  -379368.15757576  -498578.40808081  -159865.17575758\n",
      "   -623829.93939394   136316.31919192]\n",
      " [       0.          -453662.09090909 -1467902.48636364  -238411.16363636\n",
      "    329259.64090909   523929.42272727   688565.69090909   220783.07727273\n",
      "    861545.31818182  -188260.74090909]\n",
      " [       0.          -721882.93939394 -2335777.62575758  -379368.15757576\n",
      "    523929.42272727   833694.76818182  1095669.73939394   351317.73181818\n",
      "   1370920.95454545  -299567.05606061]\n",
      " [       0.          -948722.86868687 -3069757.61414141  -498578.40808081\n",
      "    688565.69090909  1095669.73939394  1439966.06868687   461713.59393939\n",
      "   1801710.48484848  -393701.11313131]\n",
      " [       0.          -304200.39393939  -984293.20757576  -159865.17575758\n",
      "    220783.07727273   351317.73181818   461713.59393939   148044.76818182\n",
      "    577704.04545455  -126237.11060606]\n",
      " [       0.         -1187058.48484848 -3840933.89393939  -623829.93939394\n",
      "    861545.31818182  1370920.95454545  1801710.48484848   577704.04545455\n",
      "   2254331.36363636  -492605.65151515]\n",
      " [       0.           259390.31313131   839302.40858586   136316.31919192\n",
      "   -188260.74090909  -299567.05606061  -393701.11313131  -126237.11060606\n",
      "   -492605.65151515   107641.81868687]]\n"
     ]
    }
   ],
   "source": [
    "total_dataset = np.concatenate((happy_filelist_dataset_transformed, sad_filelist_dataset_transformed), axis=0)\n",
    "overall_mean = np.mean(total_dataset, axis=0)\n",
    "\n",
    "#For Happy Dataset\n",
    "class_sb_mat_happy = happy_filelist_dataset_transformed.shape[0] * (mean_vector_happy.reshape(10,1) - overall_mean.reshape(10,1)).dot((mean_vector_happy.reshape(10,1) - overall_mean.reshape(10,1)).T)\n",
    "\n",
    "#For sad dataset\n",
    "class_sb_mat_sad = sad_filelist_dataset_transformed.shape[0] * (mean_vector_sad.reshape(10,1) - overall_mean.reshape(10,1)).dot((mean_vector_sad.reshape(10,1) - overall_mean.reshape(10,1)).T)\n",
    "\n",
    "S_B = class_sb_mat_happy + class_sb_mat_sad\n",
    "print(S_B)"
   ]
  },
  {
   "cell_type": "code",
   "execution_count": 78,
   "metadata": {
    "collapsed": false
   },
   "outputs": [
    {
     "ename": "LinAlgError",
     "evalue": "Singular matrix",
     "output_type": "error",
     "traceback": [
      "\u001b[0;31m---------------------------------------------------------------------------\u001b[0m",
      "\u001b[0;31mLinAlgError\u001b[0m                               Traceback (most recent call last)",
      "\u001b[0;32m<ipython-input-78-303e801a1d2c>\u001b[0m in \u001b[0;36m<module>\u001b[0;34m()\u001b[0m\n\u001b[0;32m----> 1\u001b[0;31m \u001b[0meig_vals\u001b[0m\u001b[0;34m,\u001b[0m \u001b[0meig_vecs\u001b[0m \u001b[0;34m=\u001b[0m \u001b[0mnp\u001b[0m\u001b[0;34m.\u001b[0m\u001b[0mlinalg\u001b[0m\u001b[0;34m.\u001b[0m\u001b[0meig\u001b[0m\u001b[0;34m(\u001b[0m\u001b[0mnp\u001b[0m\u001b[0;34m.\u001b[0m\u001b[0mlinalg\u001b[0m\u001b[0;34m.\u001b[0m\u001b[0minv\u001b[0m\u001b[0;34m(\u001b[0m\u001b[0mS_W\u001b[0m\u001b[0;34m)\u001b[0m\u001b[0;34m.\u001b[0m\u001b[0mdot\u001b[0m\u001b[0;34m(\u001b[0m\u001b[0mS_B\u001b[0m\u001b[0;34m)\u001b[0m\u001b[0;34m)\u001b[0m\u001b[0;34m\u001b[0m\u001b[0m\n\u001b[0m",
      "\u001b[0;32m/home/ubuntu/anaconda3/envs/tensorflow/lib/python3.5/site-packages/numpy/linalg/linalg.py\u001b[0m in \u001b[0;36minv\u001b[0;34m(a)\u001b[0m\n\u001b[1;32m    524\u001b[0m     \u001b[0msignature\u001b[0m \u001b[0;34m=\u001b[0m \u001b[0;34m'D->D'\u001b[0m \u001b[0;32mif\u001b[0m \u001b[0misComplexType\u001b[0m\u001b[0;34m(\u001b[0m\u001b[0mt\u001b[0m\u001b[0;34m)\u001b[0m \u001b[0;32melse\u001b[0m \u001b[0;34m'd->d'\u001b[0m\u001b[0;34m\u001b[0m\u001b[0m\n\u001b[1;32m    525\u001b[0m     \u001b[0mextobj\u001b[0m \u001b[0;34m=\u001b[0m \u001b[0mget_linalg_error_extobj\u001b[0m\u001b[0;34m(\u001b[0m\u001b[0m_raise_linalgerror_singular\u001b[0m\u001b[0;34m)\u001b[0m\u001b[0;34m\u001b[0m\u001b[0m\n\u001b[0;32m--> 526\u001b[0;31m     \u001b[0mainv\u001b[0m \u001b[0;34m=\u001b[0m \u001b[0m_umath_linalg\u001b[0m\u001b[0;34m.\u001b[0m\u001b[0minv\u001b[0m\u001b[0;34m(\u001b[0m\u001b[0ma\u001b[0m\u001b[0;34m,\u001b[0m \u001b[0msignature\u001b[0m\u001b[0;34m=\u001b[0m\u001b[0msignature\u001b[0m\u001b[0;34m,\u001b[0m \u001b[0mextobj\u001b[0m\u001b[0;34m=\u001b[0m\u001b[0mextobj\u001b[0m\u001b[0;34m)\u001b[0m\u001b[0;34m\u001b[0m\u001b[0m\n\u001b[0m\u001b[1;32m    527\u001b[0m     \u001b[0;32mreturn\u001b[0m \u001b[0mwrap\u001b[0m\u001b[0;34m(\u001b[0m\u001b[0mainv\u001b[0m\u001b[0;34m.\u001b[0m\u001b[0mastype\u001b[0m\u001b[0;34m(\u001b[0m\u001b[0mresult_t\u001b[0m\u001b[0;34m,\u001b[0m \u001b[0mcopy\u001b[0m\u001b[0;34m=\u001b[0m\u001b[0;32mFalse\u001b[0m\u001b[0;34m)\u001b[0m\u001b[0;34m)\u001b[0m\u001b[0;34m\u001b[0m\u001b[0m\n\u001b[1;32m    528\u001b[0m \u001b[0;34m\u001b[0m\u001b[0m\n",
      "\u001b[0;32m/home/ubuntu/anaconda3/envs/tensorflow/lib/python3.5/site-packages/numpy/linalg/linalg.py\u001b[0m in \u001b[0;36m_raise_linalgerror_singular\u001b[0;34m(err, flag)\u001b[0m\n\u001b[1;32m     88\u001b[0m \u001b[0;34m\u001b[0m\u001b[0m\n\u001b[1;32m     89\u001b[0m \u001b[0;32mdef\u001b[0m \u001b[0m_raise_linalgerror_singular\u001b[0m\u001b[0;34m(\u001b[0m\u001b[0merr\u001b[0m\u001b[0;34m,\u001b[0m \u001b[0mflag\u001b[0m\u001b[0;34m)\u001b[0m\u001b[0;34m:\u001b[0m\u001b[0;34m\u001b[0m\u001b[0m\n\u001b[0;32m---> 90\u001b[0;31m     \u001b[0;32mraise\u001b[0m \u001b[0mLinAlgError\u001b[0m\u001b[0;34m(\u001b[0m\u001b[0;34m\"Singular matrix\"\u001b[0m\u001b[0;34m)\u001b[0m\u001b[0;34m\u001b[0m\u001b[0m\n\u001b[0m\u001b[1;32m     91\u001b[0m \u001b[0;34m\u001b[0m\u001b[0m\n\u001b[1;32m     92\u001b[0m \u001b[0;32mdef\u001b[0m \u001b[0m_raise_linalgerror_nonposdef\u001b[0m\u001b[0;34m(\u001b[0m\u001b[0merr\u001b[0m\u001b[0;34m,\u001b[0m \u001b[0mflag\u001b[0m\u001b[0;34m)\u001b[0m\u001b[0;34m:\u001b[0m\u001b[0;34m\u001b[0m\u001b[0m\n",
      "\u001b[0;31mLinAlgError\u001b[0m: Singular matrix"
     ]
    }
   ],
   "source": [
    "eig_vals, eig_vecs = np.linalg.eig(np.linalg.inv(S_W).dot(S_B))"
   ]
  }
 ],
 "metadata": {
  "anaconda-cloud": {},
  "kernelspec": {
   "display_name": "Python [default]",
   "language": "python",
   "name": "python3"
  },
  "language_info": {
   "codemirror_mode": {
    "name": "ipython",
    "version": 3
   },
   "file_extension": ".py",
   "mimetype": "text/x-python",
   "name": "python",
   "nbconvert_exporter": "python",
   "pygments_lexer": "ipython3",
   "version": "3.5.2"
  }
 },
 "nbformat": 4,
 "nbformat_minor": 1
}
